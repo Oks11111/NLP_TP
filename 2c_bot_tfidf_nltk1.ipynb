{
  "cells": [
    {
      "cell_type": "markdown",
      "metadata": {
        "id": "Ue5hxxkdAQJg"
      },
      "source": [
        "### Procesamiento de lenguaje natural-Sistema de obtención de información con NLTK utilizando un corpus de wikipedia\n",
        "### Tp 2\n"
      ]
    },
    {
      "cell_type": "code",
      "execution_count": 39,
      "metadata": {
        "colab": {
          "base_uri": "https://localhost:8080/"
        },
        "id": "L1MIMZj9XtYh",
        "outputId": "5174e108-cfd2-4ee3-fa19-36cdbc233912"
      },
      "outputs": [
        {
          "output_type": "stream",
          "name": "stdout",
          "text": [
            "Looking in indexes: https://pypi.org/simple, https://us-python.pkg.dev/colab-wheels/public/simple/\n",
            "Requirement already satisfied: nltk in /usr/local/lib/python3.10/dist-packages (3.8.1)\n",
            "Requirement already satisfied: click in /usr/local/lib/python3.10/dist-packages (from nltk) (8.1.3)\n",
            "Requirement already satisfied: joblib in /usr/local/lib/python3.10/dist-packages (from nltk) (1.2.0)\n",
            "Requirement already satisfied: regex>=2021.8.3 in /usr/local/lib/python3.10/dist-packages (from nltk) (2022.10.31)\n",
            "Requirement already satisfied: tqdm in /usr/local/lib/python3.10/dist-packages (from nltk) (4.65.0)\n"
          ]
        }
      ],
      "source": [
        "! pip install nltk"
      ]
    },
    {
      "cell_type": "code",
      "execution_count": 40,
      "metadata": {
        "id": "kCED1hh-Ioyf",
        "colab": {
          "base_uri": "https://localhost:8080/"
        },
        "outputId": "7aa79f37-00b3-42ab-baf9-d8cf5fced36e"
      },
      "outputs": [
        {
          "output_type": "stream",
          "name": "stderr",
          "text": [
            "[nltk_data] Downloading package punkt to /root/nltk_data...\n",
            "[nltk_data]   Package punkt is already up-to-date!\n",
            "[nltk_data] Downloading package wordnet to /root/nltk_data...\n",
            "[nltk_data]   Package wordnet is already up-to-date!\n",
            "[nltk_data] Downloading package omw-1.4 to /root/nltk_data...\n",
            "[nltk_data]   Package omw-1.4 is already up-to-date!\n"
          ]
        },
        {
          "output_type": "execute_result",
          "data": {
            "text/plain": [
              "True"
            ]
          },
          "metadata": {},
          "execution_count": 40
        }
      ],
      "source": [
        "import json\n",
        "import string\n",
        "import random\n",
        "import re # Regular Expressions (regex)\n",
        "import urllib.request\n",
        "import numpy as np\n",
        "# Para leer y parsear el texto en HTML de wikipedia\n",
        "from bs4 import BeautifulSoup\n",
        "import nltk\n",
        "# Descargar el diccionario\n",
        "nltk.download(\"punkt\")\n",
        "nltk.download(\"wordnet\")\n",
        "nltk.download('omw-1.4')"
      ]
    },
    {
      "cell_type": "markdown",
      "metadata": {
        "id": "DMOa4JPSCJ29"
      },
      "source": [
        "### Datos\n",
        "Se consumirán los datos del artículo de wikipedia sobre el deporte \"Tennis\" en inglés."
      ]
    },
    {
      "cell_type": "code",
      "source": [
        "url = 'https://www.hsph.harvard.edu/nutritionsource/vitamin-c/'\n",
        "\n",
        "# Obtener el contenido HTML de la página web\n",
        "response = urllib.request.urlopen(url)\n",
        "raw_html = response.read()\n",
        "\n",
        "# Parsear el HTML utilizando BeautifulSoup\n",
        "article_html = BeautifulSoup(raw_html, 'lxml')\n",
        "\n",
        "# Encontrar todos los párrafos del HTML (bajo el tag <p>)\n",
        "# y obtener el texto de cada párrafo\n",
        "article_paragraphs = article_html.find_all('p')\n",
        "article_text = ' '.join([para.text for para in article_paragraphs])\n",
        "\n",
        "# Convertir el texto a minúsculas\n",
        "article_text = article_text.lower()\n",
        "\n",
        "# Imprimir el texto y la cantidad de caracteres en la nota\n",
        "print(article_text,'\\n')\n",
        "print(\"Cantidad de caracteres en la nota:\", len(article_text))\n"
      ],
      "metadata": {
        "colab": {
          "base_uri": "https://localhost:8080/"
        },
        "id": "HDv0gBkyfrDa",
        "outputId": "f64981f5-d9e9-456b-c73c-49819eb8397a"
      },
      "execution_count": 41,
      "outputs": [
        {
          "output_type": "stream",
          "name": "stdout",
          "text": [
            "is a glass of oj or vitamin c tablets your go-to when the sniffles come? loading up on this vitamin was a practice spurred by linus pauling in the 1970s, a double nobel laureate and self-proclaimed champion of vitamin c who promoted daily megadoses (the amount in 12 to 24 oranges) as a way to prevent colds and some chronic diseases. vitamin c, or ascorbic acid, is a water-soluble vitamin. this means that it dissolves in water and is delivered to the body’s tissues but is not well stored, so it must be taken daily through food or supplements. even before its discovery in 1932, nutrition experts recognized that something in citrus fruits could prevent scurvy, a disease that killed as many as two million sailors between 1500 and 1800. [1] vitamin c plays a role in controlling infections and healing wounds, and is a powerful antioxidant that can neutralize harmful free radicals. it is needed to make collagen, a fibrous protein in connective tissue that is weaved throughout various systems in the body: nervous, immune, bone, cartilage, blood, and others. the vitamin helps make several hormones and chemical messengers used in the brain and nerves. [2] while megadosing on this vitamin is not uncommon, how much is an optimum amount needed to keep you healthy, and could taking too much be counterproductive?  absorption does not differ if obtaining the vitamin from food or supplements. vitamin c is sometimes given as an injection into a vein (intravenous) so higher amounts can directly enter the bloodstream. this is usually only seen in medically monitored settings, such as to improve the quality of life in those with advanced stage cancers or in controlled clinical studies. though clinical trials have not shown high-dose intravenous vitamin c to produce negative side effects, it should be administered only with close monitoring and avoided in those with kidney disease and hereditary conditions like hemochromatosis and glucose 6-phosphate dehydrogenase deficiency. vitamin c is involved with numerous metabolic reactions in the body, and obtaining the rda or slightly higher may be protective against certain disease states. however, a health benefit of taking larger amounts has not been found in people who are generally healthy and well-nourished. cell studies have shown that at very high concentrations, vitamin c can switch roles and act as a tissue-damaging pro-oxidant instead of an antioxidant. [2,3] its effects in humans at very high doses well beyond the rda are unclear, and can lead to increased risk of kidney stones and digestive upset. there is interest in the antioxidant role of vitamin c, as research has found the vitamin to neutralize free radical molecules, which in excess can damage cells. vitamin c is also involved in the body’s immune system by stimulating the activity of white blood cells. does this translate to protection from certain diseases? although some epidemiological studies that follow large groups of people over time have found a protective effect of higher intakes of vitamin c (from food or supplements) from cardiovascular disease and certain cancers, other studies have not. randomized controlled trials have not found a benefit of vitamin c supplements on the prevalence of cardiovascular disease or cancer. the inconsistency of the data overall prevents the establishment of a specific vitamin c recommendation above the rda for these conditions. [2] vitamin c has also been theorized to protect from eye diseases like cataracts and macular degeneration. human studies using vitamin c supplements have not shown a consistent benefit, though there appears to be a strong association between a high daily intake of fruit and vegetables and decreased risk of cataracts. [4] despite being a popular fix, vitamin c’s cold-fighting potential hasn’t panned out. reviews of several studies show that megadoses (greater than 500 mg daily) of supplemental vitamin c have no significant effect on the common cold, but may provide a moderate benefit in decreasing the duration and severity of colds in some groups of people. [2] small trials suggest that the amount of vitamin c in a typical multivitamin taken at the start of a cold might ease symptoms, but for the average person, there is no evidence that megadoses make a difference, or that they prevent colds. [5] the physicians’ health study ii, a randomized, double-blind, placebo-controlled trial of more than 14,000 male physicians, found a modestly reduced risk of new gout cases in men who took vitamin c supplements of 500 mg daily for up to 10 years. [6] other short-term trials have found that vitamin c may lower blood levels of uric acid, a substance that can lead to gout if there is too much in the body. fruits and vegetables are the best sources of this vitamin. vitamin c deficiency is rare in developed countries but may occur with a limited diet that provides less than 10 mg daily for one month or longer. in developed countries, situations at greatest risk for deficiency include eating a diet restricted in fruits and vegetables, smoking or long-term exposure to secondhand smoke, and drug and alcohol abuse. the following are the most common signs of a deficiency. vitamins and minerals last reviewed march 2023 the contents of this website are for educational purposes and are not intended to offer personal medical advice. you should seek the advice of your physician or other qualified health provider with any questions you may have regarding a medical condition. never disregard professional medical advice or delay in seeking it because of something you have read on this website. the nutrition source does not recommend or endorse any products. use healthy oils (like olive and canola oil) for cooking, on salad, and at the table. limit butter. avoid trans fat. drink water, tea, or coffee (with little or no sugar). limit milk/dairy (1-2 servings/day) and juice (1 small glass/day). avoid sugary drinks. the more veggies — and the greater the variety — the better. potatoes and french fries don’t count. eat plenty of fruits of all colors choose fish, poultry, beans, and nuts; limit red meat and cheese; avoid bacon, cold cuts, and other processed meats. eat a variety of whole grains (like whole-wheat bread, whole-grain pasta, and brown rice). limit refined grains (like white rice and white bread). incorporate physical activity into your daily routine. create healthy, balanced meals using this visual guide as a blueprint. thank you for supporting our mission of translating food and nutrition knowledge into daily practice!\n",
            "make a gift  a monthly update filled with nutrition news and tips from harvard experts—all designed to help you eat healthier. sign up here. explore the downloadable guide with tips and strategies for healthy eating and healthy living. \n",
            "\n",
            "Cantidad de caracteres en la nota: 6813\n"
          ]
        }
      ]
    },
    {
      "cell_type": "markdown",
      "metadata": {
        "id": "FVHxBRNzCMOS"
      },
      "source": [
        "### 2 - Preprocesamiento\n",
        "- Remover caracteres especiales\n",
        "- Quitar espacios o saltos"
      ]
    },
    {
      "cell_type": "code",
      "execution_count": 42,
      "metadata": {
        "id": "HnEUTD1Erl1N",
        "colab": {
          "base_uri": "https://localhost:8080/"
        },
        "outputId": "1e59ae7f-6f72-42a4-bcc7-2ba32534c969"
      },
      "outputs": [
        {
          "output_type": "stream",
          "name": "stdout",
          "text": [
            "is a glass of oj or vitamin c tablets your go-to when the sniffles come? loading up on this vitamin was a practice spurred by linus pauling in the 1970s, a double nobel laureate and self-proclaimed champion of vitamin c who promoted daily megadoses as a way to prevent colds and some chronic diseases. vitamin c, or ascorbic acid, is a water-soluble vitamin. this means that it dissolves in water and is delivered to the body’s tissues but is not well stored, so it must be taken daily through food or supplements. even before its discovery in 1932, nutrition experts recognized that something in citrus fruits could prevent scurvy, a disease that killed as many as two million sailors between 1500 and 1800. vitamin c plays a role in controlling infections and healing wounds, and is a powerful antioxidant that can neutralize harmful free radicals. it is needed to make collagen, a fibrous protein in connective tissue that is weaved throughout various systems in the body: nervous, immune, bone, cartilage, blood, and others. the vitamin helps make several hormones and chemical messengers used in the brain and nerves. while megadosing on this vitamin is not uncommon, how much is an optimum amount needed to keep you healthy, and could taking too much be counterproductive? absorption does not differ if obtaining the vitamin from food or supplements. vitamin c is sometimes given as an injection into a vein so higher amounts can directly enter the bloodstream. this is usually only seen in medically monitored settings, such as to improve the quality of life in those with advanced stage cancers or in controlled clinical studies. though clinical trials have not shown high-dose intravenous vitamin c to produce negative side effects, it should be administered only with close monitoring and avoided in those with kidney disease and hereditary conditions like hemochromatosis and glucose 6-phosphate dehydrogenase deficiency. vitamin c is involved with numerous metabolic reactions in the body, and obtaining the rda or slightly higher may be protective against certain disease states. however, a health benefit of taking larger amounts has not been found in people who are generally healthy and well-nourished. cell studies have shown that at very high concentrations, vitamin c can switch roles and act as a tissue-damaging pro-oxidant instead of an antioxidant. [2,3] its effects in humans at very high doses well beyond the rda are unclear, and can lead to increased risk of kidney stones and digestive upset. there is interest in the antioxidant role of vitamin c, as research has found the vitamin to neutralize free radical molecules, which in excess can damage cells. vitamin c is also involved in the body’s immune system by stimulating the activity of white blood cells. does this translate to protection from certain diseases? although some epidemiological studies that follow large groups of people over time have found a protective effect of higher intakes of vitamin c from cardiovascular disease and certain cancers, other studies have not. randomized controlled trials have not found a benefit of vitamin c supplements on the prevalence of cardiovascular disease or cancer. the inconsistency of the data overall prevents the establishment of a specific vitamin c recommendation above the rda for these conditions. vitamin c has also been theorized to protect from eye diseases like cataracts and macular degeneration. human studies using vitamin c supplements have not shown a consistent benefit, though there appears to be a strong association between a high daily intake of fruit and vegetables and decreased risk of cataracts. despite being a popular fix, vitamin c’s cold-fighting potential hasn’t panned out. reviews of several studies show that megadoses of supplemental vitamin c have no significant effect on the common cold, but may provide a moderate benefit in decreasing the duration and severity of colds in some groups of people. small trials suggest that the amount of vitamin c in a typical multivitamin taken at the start of a cold might ease symptoms, but for the average person, there is no evidence that megadoses make a difference, or that they prevent colds. the physicians’ health study ii, a randomized, double-blind, placebo-controlled trial of more than 14,000 male physicians, found a modestly reduced risk of new gout cases in men who took vitamin c supplements of 500 mg daily for up to 10 years. other short-term trials have found that vitamin c may lower blood levels of uric acid, a substance that can lead to gout if there is too much in the body. fruits and vegetables are the best sources of this vitamin. vitamin c deficiency is rare in developed countries but may occur with a limited diet that provides less than 10 mg daily for one month or longer. in developed countries, situations at greatest risk for deficiency include eating a diet restricted in fruits and vegetables, smoking or long-term exposure to secondhand smoke, and drug and alcohol abuse. the following are the most common signs of a deficiency. vitamins and minerals last reviewed march 2023 the contents of this website are for educational purposes and are not intended to offer personal medical advice. you should seek the advice of your physician or other qualified health provider with any questions you may have regarding a medical condition. never disregard professional medical advice or delay in seeking it because of something you have read on this website. the nutrition source does not recommend or endorse any products. use healthy oils for cooking, on salad, and at the table. limit butter. avoid trans fat. drink water, tea, or coffee . limit milk/dairy and juice . avoid sugary drinks. the more veggies — and the greater the variety — the better. potatoes and french fries don’t count. eat plenty of fruits of all colors choose fish, poultry, beans, and nuts; limit red meat and cheese; avoid bacon, cold cuts, and other processed meats. eat a variety of whole grains . limit refined grains . incorporate physical activity into your daily routine. create healthy, balanced meals using this visual guide as a blueprint. thank you for supporting our mission of translating food and nutrition knowledge into daily practice! make a gift a monthly update filled with nutrition news and tips from harvard experts—all designed to help you eat healthier. sign up here. explore the downloadable guide with tips and strategies for healthy eating and healthy living. \n",
            "\n",
            "Cantidad de caracteres en el texto: 6498\n"
          ]
        }
      ],
      "source": [
        "# substituir con regex con espacio vacío:\n",
        "text = re.sub(r'\\[[0-9]*\\]|\\([^)]*\\)', ' ', article_text)  # Substituir los números entre corchetes y los paréntesis\n",
        "text = re.sub(r'\\s+', ' ', text)  # Substituir más de un caracter de espacio, salto de línea o tabulación\n",
        "print(text,'\\n')\n",
        "print(\"Cantidad de caracteres en el texto:\", len(text))"
      ]
    },
    {
      "cell_type": "markdown",
      "metadata": {
        "id": "DKNcDGcisajf"
      },
      "source": [
        "### 3 - Dividir el texto en sentencias y en palabras"
      ]
    },
    {
      "cell_type": "code",
      "execution_count": 43,
      "metadata": {
        "id": "reXBOFQ7sdlB",
        "colab": {
          "base_uri": "https://localhost:8080/"
        },
        "outputId": "b5525658-64ba-4354-88ec-4cb1d32cd854"
      },
      "outputs": [
        {
          "output_type": "stream",
          "name": "stdout",
          "text": [
            "['is a glass of oj or vitamin c tablets your go-to when the sniffles come?', 'loading up on this vitamin was a practice spurred by linus pauling in the 1970s, a double nobel laureate and self-proclaimed champion of vitamin c who promoted daily megadoses as a way to prevent colds and some chronic diseases.', 'vitamin c, or ascorbic acid, is a water-soluble vitamin.', 'this means that it dissolves in water and is delivered to the body’s tissues but is not well stored, so it must be taken daily through food or supplements.', 'even before its discovery in 1932, nutrition experts recognized that something in citrus fruits could prevent scurvy, a disease that killed as many as two million sailors between 1500 and 1800. vitamin c plays a role in controlling infections and healing wounds, and is a powerful antioxidant that can neutralize harmful free radicals.', 'it is needed to make collagen, a fibrous protein in connective tissue that is weaved throughout various systems in the body: nervous, immune, bone, cartilage, blood, and others.', 'the vitamin helps make several hormones and chemical messengers used in the brain and nerves.', 'while megadosing on this vitamin is not uncommon, how much is an optimum amount needed to keep you healthy, and could taking too much be counterproductive?', 'absorption does not differ if obtaining the vitamin from food or supplements.', 'vitamin c is sometimes given as an injection into a vein so higher amounts can directly enter the bloodstream.']\n",
            "['is', 'a', 'glass', 'of', 'oj', 'or', 'vitamin', 'c', 'tablets', 'your', 'go-to', 'when', 'the', 'sniffles', 'come', '?', 'loading', 'up', 'on', 'this']\n",
            "Vocabulario: 1173\n"
          ]
        }
      ],
      "source": [
        "corpus = nltk.sent_tokenize(text) # divide en oraciones\n",
        "words = nltk.word_tokenize(text) # divide en términos\n",
        "# Demos un vistazo\n",
        "print(corpus[:10])\n",
        "# Demos un vistazo\n",
        "print(words[:20])\n",
        "print(\"Vocabulario:\", len(words))"
      ]
    },
    {
      "cell_type": "markdown",
      "metadata": {
        "id": "NlYKyb3OtDse"
      },
      "source": [
        "### 4 - Funciones de ayuda para limpiar y procesar el input del usuario\n",
        "- Lematizar los tokens de la oración\n",
        "- Quitar símbolos de puntuación"
      ]
    },
    {
      "cell_type": "code",
      "source": [
        "import nltk\n",
        "from nltk.corpus import stopwords\n",
        "from nltk.stem import WordNetLemmatizer\n",
        "import string\n",
        "\n",
        "nltk.download('punkt')\n",
        "nltk.download('wordnet')\n",
        "nltk.download('stopwords')\n",
        "\n",
        "lemmatizer = WordNetLemmatizer()\n",
        "punctuation_removal = dict((ord(punctuation), None) for punctuation in string.punctuation)\n",
        "stop_words = set(stopwords.words('english'))\n",
        "\n",
        "def perform_lemmatization(tokens):\n",
        "    return [lemmatizer.lemmatize(token) for token in tokens]\n",
        "\n",
        "def get_processed_text(document):\n",
        "    # Reduce el texto a minúsculas\n",
        "    document = document.lower()\n",
        "\n",
        "    # Quita los símbolos de puntuación\n",
        "    document = document.translate(punctuation_removal)\n",
        "\n",
        "    # Realiza la tokenización\n",
        "    tokens = nltk.word_tokenize(document)\n",
        "\n",
        "    # Elimina las stop words\n",
        "    tokens = [token for token in tokens if token not in stop_words]\n",
        "\n",
        "    # Realiza la lematización\n",
        "    lemmatized_tokens = perform_lemmatization(tokens)\n",
        "\n",
        "    return lemmatized_tokens\n",
        "\n",
        "\n"
      ],
      "metadata": {
        "colab": {
          "base_uri": "https://localhost:8080/"
        },
        "id": "BjEG8ljfjNfX",
        "outputId": "69565369-d7c3-4257-c02a-cd587e6298de"
      },
      "execution_count": 44,
      "outputs": [
        {
          "output_type": "stream",
          "name": "stderr",
          "text": [
            "[nltk_data] Downloading package punkt to /root/nltk_data...\n",
            "[nltk_data]   Package punkt is already up-to-date!\n",
            "[nltk_data] Downloading package wordnet to /root/nltk_data...\n",
            "[nltk_data]   Package wordnet is already up-to-date!\n",
            "[nltk_data] Downloading package stopwords to /root/nltk_data...\n",
            "[nltk_data]   Package stopwords is already up-to-date!\n"
          ]
        }
      ]
    },
    {
      "cell_type": "markdown",
      "metadata": {
        "id": "Jl8r6d9ZuyR9"
      },
      "source": [
        "### 5 - Utilizar vectores TF-IDF y la similitud coseno construido con el corpus del artículo de wikipedia"
      ]
    },
    {
      "cell_type": "code",
      "execution_count": 45,
      "metadata": {
        "id": "IRYFHcBfk2Gt"
      },
      "outputs": [],
      "source": [
        "from sklearn.feature_extraction.text import TfidfVectorizer\n",
        "from sklearn.metrics.pairwise import cosine_similarity\n",
        "\n",
        "def generate_response(user_input, corpus):\n",
        "    response = ''\n",
        "    # Sumar al corpus la pregunta del usuario para calcular\n",
        "    # su cercania con otros documentos/sentencias\n",
        "    # la entrada del usuario se usa para tokenizar y vectorizar\n",
        "    corpus.append(user_input)\n",
        "\n",
        "    # Crear un vectorizar TFIDF que quite las \"stop words\" del ingles y utilice\n",
        "    # nuestra funcion para obtener los tokens lematizados \"get_processed_text\"\n",
        "    word_vectorizer = TfidfVectorizer(tokenizer=get_processed_text, stop_words='english')\n",
        "\n",
        "    # Crear los vectores a partir del corpus\n",
        "    all_word_vectors = word_vectorizer.fit_transform(corpus)\n",
        "\n",
        "    # Calcular la similitud coseno entre todas los documentos excepto el agregado (el útlimo \"-1\")\n",
        "    # NOTA: con los word embedings veremos más en detalle esta matriz de similitud\n",
        "    similar_vector_values = cosine_similarity(all_word_vectors[-1], all_word_vectors)\n",
        "\n",
        "    # Obtener el índice del vector más cercano a nuestra oración\n",
        "    # --> descartando la similitud contra nuestor vector propio\n",
        "    similar_sentence_number = similar_vector_values.argsort()[0][-2]\n",
        "    matched_vector = similar_vector_values.flatten()\n",
        "    matched_vector.sort()\n",
        "    vector_matched = matched_vector[-2]\n",
        "\n",
        "    if vector_matched == 0: # si la similaridad coseno fue nula (ningún término en común)\n",
        "        response = \"I am sorry, I could not understand you\"\n",
        "    else:\n",
        "        response = corpus[similar_sentence_number] # obtener el documento del corpus más similar\n",
        "    \n",
        "    corpus.remove(user_input)\n",
        "    return response"
      ]
    },
    {
      "cell_type": "markdown",
      "metadata": {
        "id": "OK-BuXPBybSp"
      },
      "source": [
        "### 6 - Ensayar el sistema\n",
        "El sistema intentará encontrar la parte del artículo que más se relaciona con nuestro texto de entrada. Sugerencias a ensayar:\n",
        "- Grand slam\n",
        "- tournaments\n",
        "- nadal\n",
        "- artificial intelligence"
      ]
    },
    {
      "cell_type": "code",
      "execution_count": 46,
      "metadata": {
        "id": "Z2X4j8XyydSb"
      },
      "outputs": [],
      "source": [
        "# Se utilizará gradio para ensayar el bot\n",
        "# Herramienta poderosa para crear interfaces rápidas para ensayar modelos\n",
        "# https://gradio.app/\n",
        "import sys\n",
        "!{sys.executable} -m pip install gradio --quiet"
      ]
    },
    {
      "cell_type": "code",
      "execution_count": 47,
      "metadata": {
        "id": "SZv5MiVzynG1",
        "colab": {
          "base_uri": "https://localhost:8080/",
          "height": 910
        },
        "outputId": "c1476848-274c-401b-f134-296fbd68126e"
      },
      "outputs": [
        {
          "output_type": "stream",
          "name": "stderr",
          "text": [
            "<ipython-input-47-802801f2853a>:9: UserWarning: `layout` parameter is deprecated, and it has no effect\n",
            "  iface = gr.Interface(\n"
          ]
        },
        {
          "output_type": "stream",
          "name": "stdout",
          "text": [
            "Colab notebook detected. This cell will run indefinitely so that you can see errors and logs. To turn off, set debug=False in launch().\n",
            "Note: opening Chrome Inspector may crash demo inside Colab notebooks.\n",
            "\n",
            "To create a public link, set `share=True` in `launch()`.\n"
          ]
        },
        {
          "output_type": "display_data",
          "data": {
            "text/plain": [
              "<IPython.core.display.Javascript object>"
            ],
            "application/javascript": [
              "(async (port, path, width, height, cache, element) => {\n",
              "                        if (!google.colab.kernel.accessAllowed && !cache) {\n",
              "                            return;\n",
              "                        }\n",
              "                        element.appendChild(document.createTextNode(''));\n",
              "                        const url = await google.colab.kernel.proxyPort(port, {cache});\n",
              "\n",
              "                        const external_link = document.createElement('div');\n",
              "                        external_link.innerHTML = `\n",
              "                            <div style=\"font-family: monospace; margin-bottom: 0.5rem\">\n",
              "                                Running on <a href=${new URL(path, url).toString()} target=\"_blank\">\n",
              "                                    https://localhost:${port}${path}\n",
              "                                </a>\n",
              "                            </div>\n",
              "                        `;\n",
              "                        element.appendChild(external_link);\n",
              "\n",
              "                        const iframe = document.createElement('iframe');\n",
              "                        iframe.src = new URL(path, url).toString();\n",
              "                        iframe.height = height;\n",
              "                        iframe.allow = \"autoplay; camera; microphone; clipboard-read; clipboard-write;\"\n",
              "                        iframe.width = width;\n",
              "                        iframe.style.border = 0;\n",
              "                        element.appendChild(iframe);\n",
              "                    })(7860, \"/\", \"100%\", 500, false, window.element)"
            ]
          },
          "metadata": {}
        },
        {
          "output_type": "stream",
          "name": "stdout",
          "text": [
            "Q: What vitamin does orange contain?\n",
            "A: vitamin c, or ascorbic acid, is a water-soluble vitamin.\n"
          ]
        },
        {
          "output_type": "stream",
          "name": "stderr",
          "text": [
            "/usr/local/lib/python3.10/dist-packages/sklearn/feature_extraction/text.py:528: UserWarning: The parameter 'token_pattern' will not be used since 'tokenizer' is not None'\n",
            "  warnings.warn(\n",
            "/usr/local/lib/python3.10/dist-packages/sklearn/feature_extraction/text.py:409: UserWarning: Your stop_words may be inconsistent with your preprocessing. Tokenizing the stop words generated tokens ['le', 'u'] not in stop_words.\n",
            "  warnings.warn(\n"
          ]
        },
        {
          "output_type": "stream",
          "name": "stdout",
          "text": [
            "Q: what is vitamin c?\n",
            "A: vitamin c, or ascorbic acid, is a water-soluble vitamin.\n",
            "Q: how much vitamin c should a person consume?\n",
            "A: small trials suggest that the amount of vitamin c in a typical multivitamin taken at the start of a cold might ease symptoms, but for the average person, there is no evidence that megadoses make a difference, or that they prevent colds.\n",
            "Q: How far does an orange fall from the tree?\n",
            "A: I am sorry, I could not understand you\n",
            "Keyboard interruption in main thread... closing server.\n"
          ]
        },
        {
          "output_type": "execute_result",
          "data": {
            "text/plain": []
          },
          "metadata": {},
          "execution_count": 47
        }
      ],
      "source": [
        "import gradio as gr\n",
        "\n",
        "def bot_response(human_text):\n",
        "    print(\"Q:\", human_text)    \n",
        "    resp = generate_response(human_text.lower(), corpus)\n",
        "    print(\"A:\", resp)\n",
        "    return resp\n",
        "\n",
        "iface = gr.Interface(\n",
        "    fn=bot_response,\n",
        "    inputs=[\"textbox\"],\n",
        "    outputs=\"text\",\n",
        "    layout=\"vertical\")\n",
        "\n",
        "iface.launch(debug=True)"
      ]
    },
    {
      "cell_type": "markdown",
      "source": [
        "### El bot entrega las respuestas razonables en función del texto que fue proporcionado. Es evidente que para obtener una respuesta con mejor construcción o que abarque mayór cantidad de temas requiere de un dataset mas grande."
      ],
      "metadata": {
        "id": "etlkoCwRp2Do"
      }
    },
    {
      "cell_type": "markdown",
      "metadata": {
        "id": "61zv5a27XtYt"
      },
      "source": [
        "### Alumno"
      ]
    },
    {
      "cell_type": "markdown",
      "metadata": {
        "id": "shnNME2ZXtYu"
      },
      "source": [
        "- Tomar un ejemplo de los bots utilizados (uno de los dos) y construir el propio.\n",
        "- Sacar conclusiones de los resultados.\n",
        "\n",
        "__IMPORTANTE__: Recuerde para la entrega del ejercicio debe quedar registrado en el colab las preguntas y las respuestas del BOT para que podamos evaluar el desempeño final."
      ]
    }
  ],
  "metadata": {
    "colab": {
      "provenance": []
    },
    "kernelspec": {
      "display_name": "Python 3 (ipykernel)",
      "language": "python",
      "name": "python3"
    },
    "language_info": {
      "codemirror_mode": {
        "name": "ipython",
        "version": 3
      },
      "file_extension": ".py",
      "mimetype": "text/x-python",
      "name": "python",
      "nbconvert_exporter": "python",
      "pygments_lexer": "ipython3",
      "version": "3.8.7"
    }
  },
  "nbformat": 4,
  "nbformat_minor": 0
}